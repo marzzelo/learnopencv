{
 "cells": [
  {
   "cell_type": "code",
   "execution_count": 7,
   "metadata": {},
   "outputs": [],
   "source": [
    "import cv2"
   ]
  },
  {
   "cell_type": "code",
   "execution_count": 8,
   "metadata": {},
   "outputs": [
    {
     "name": "stdout",
     "output_type": "stream",
     "text": [
      "flags :  cv2.IMREAD_GRAYSCALE\n",
      "Size (512, 512), type uint8\n",
      "\n"
     ]
    }
   ],
   "source": [
    "# Read 8-bit grayscale image\n",
    "im = cv2.imread(r\"earth-16-bit-per-channel.png\", cv2.IMREAD_GRAYSCALE)\n",
    "if im is None:\n",
    "    print(\"Could not read the image.\")\n",
    "    exit()\n",
    "\n",
    "print(\"flags :  cv2.IMREAD_GRAYSCALE\")\n",
    "\n",
    "print(f'Size {im.shape}, type {im.dtype}\\n')\n"
   ]
  },
  {
   "cell_type": "code",
   "execution_count": 9,
   "metadata": {},
   "outputs": [
    {
     "name": "stdout",
     "output_type": "stream",
     "text": [
      "flags : cv2.IMREAD_COLOR\n",
      "Size (512, 512, 3), type uint8\n",
      "\n"
     ]
    }
   ],
   "source": [
    "# Read 8-bit color image\n",
    "im = cv2.imread(\"earth-16-bit-per-channel.png\", cv2.IMREAD_COLOR)\n",
    "print(\"flags : cv2.IMREAD_COLOR\")\n",
    "print(\"Size %s, type %s\\n\" % (im.shape, im.dtype))"
   ]
  },
  {
   "cell_type": "code",
   "execution_count": 10,
   "metadata": {},
   "outputs": [
    {
     "name": "stdout",
     "output_type": "stream",
     "text": [
      "flags :  cv2.IMREAD_ANYCOLOR | cv2.IMREAD_ANYDEPTH\n",
      "Size (512, 512, 3), type uint16\n",
      "\n"
     ]
    }
   ],
   "source": [
    "# Read 16-bit color image\n",
    "im = cv2.imread(\n",
    "    \"earth-16-bit-per-channel.png\", cv2.IMREAD_ANYCOLOR | cv2.IMREAD_ANYDEPTH\n",
    ")\n",
    "print(\"flags :  cv2.IMREAD_ANYCOLOR | cv2.IMREAD_ANYDEPTH\")\n",
    "print(\"Size %s, type %s\\n\" % (im.shape, im.dtype))"
   ]
  },
  {
   "cell_type": "code",
   "execution_count": 11,
   "metadata": {},
   "outputs": [
    {
     "name": "stdout",
     "output_type": "stream",
     "text": [
      "flags : cv2.IMREAD_UNCHANGED\n",
      "Size (512, 512, 4), type uint16\n",
      "\n"
     ]
    }
   ],
   "source": [
    "# Read transparent PNG / TIFF image\n",
    "im = cv2.imread(\"earth-16-bit-per-channel.png\", cv2.IMREAD_UNCHANGED)\n",
    "print(\"flags : cv2.IMREAD_UNCHANGED\")\n",
    "print(\"Size %s, type %s\\n\" % (im.shape, im.dtype))\n"
   ]
  }
 ],
 "metadata": {
  "kernelspec": {
   "display_name": ".venv",
   "language": "python",
   "name": "python3"
  },
  "language_info": {
   "codemirror_mode": {
    "name": "ipython",
    "version": 3
   },
   "file_extension": ".py",
   "mimetype": "text/x-python",
   "name": "python",
   "nbconvert_exporter": "python",
   "pygments_lexer": "ipython3",
   "version": "3.12.2"
  }
 },
 "nbformat": 4,
 "nbformat_minor": 2
}
